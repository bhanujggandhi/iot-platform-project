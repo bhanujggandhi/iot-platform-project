{
 "cells": [
  {
   "cell_type": "markdown",
   "id": "b3676fdd",
   "metadata": {},
   "source": [
    "# Install required Packages"
   ]
  },
  {
   "cell_type": "code",
   "execution_count": null,
   "id": "83d3b998",
   "metadata": {},
   "outputs": [],
   "source": [
    "#pip install requests"
   ]
  },
  {
   "cell_type": "code",
   "execution_count": null,
   "id": "cfd48219",
   "metadata": {},
   "outputs": [],
   "source": [
    "#pip install matplotlib"
   ]
  },
  {
   "cell_type": "code",
   "execution_count": null,
   "id": "0c17e516",
   "metadata": {},
   "outputs": [],
   "source": [
    "#pip install pandas"
   ]
  },
  {
   "cell_type": "code",
   "execution_count": null,
   "id": "54a45abd",
   "metadata": {},
   "outputs": [],
   "source": [
    "#pip install numpy"
   ]
  },
  {
   "cell_type": "code",
   "execution_count": null,
   "id": "cbabec48",
   "metadata": {},
   "outputs": [],
   "source": [
    "#pip install progressbar"
   ]
  },
  {
   "cell_type": "markdown",
   "id": "059296fc",
   "metadata": {},
   "source": [
    "# Import Required packages"
   ]
  },
  {
   "cell_type": "code",
   "execution_count": null,
   "id": "8c6722c2",
   "metadata": {},
   "outputs": [],
   "source": [
    "import os"
   ]
  },
  {
   "cell_type": "code",
   "execution_count": null,
   "id": "801aa4fc",
   "metadata": {},
   "outputs": [],
   "source": [
    "import time"
   ]
  },
  {
   "cell_type": "code",
   "execution_count": null,
   "id": "894c8447",
   "metadata": {},
   "outputs": [],
   "source": [
    "import math"
   ]
  },
  {
   "cell_type": "code",
   "execution_count": null,
   "id": "3455d9c1",
   "metadata": {},
   "outputs": [],
   "source": [
    "import json"
   ]
  },
  {
   "cell_type": "code",
   "execution_count": null,
   "id": "fa79cc0e",
   "metadata": {},
   "outputs": [],
   "source": [
    "import random"
   ]
  },
  {
   "cell_type": "code",
   "execution_count": null,
   "id": "358ae0be",
   "metadata": {},
   "outputs": [],
   "source": [
    "import threading"
   ]
  },
  {
   "cell_type": "code",
   "execution_count": null,
   "id": "b54e6e56",
   "metadata": {},
   "outputs": [],
   "source": [
    "import requests"
   ]
  },
  {
   "cell_type": "code",
   "execution_count": null,
   "id": "06000590",
   "metadata": {},
   "outputs": [],
   "source": [
    "from IPython.display import clear_output"
   ]
  },
  {
   "cell_type": "markdown",
   "id": "c203dab6",
   "metadata": {},
   "source": [
    "# Default Running Constants"
   ]
  },
  {
   "cell_type": "code",
   "execution_count": null,
   "id": "1579e39c",
   "metadata": {},
   "outputs": [],
   "source": [
    "data_frequency = 0.1 #3 seconds"
   ]
  },
  {
   "cell_type": "code",
   "execution_count": null,
   "id": "b2adf519",
   "metadata": {},
   "outputs": [],
   "source": [
    "no_of_params = 3 #3 parameters-TimeStamp, Occupancy State, Distance"
   ]
  },
  {
   "cell_type": "markdown",
   "id": "fbcf8e64",
   "metadata": {},
   "source": [
    "# Create Resource Tree"
   ]
  },
  {
   "cell_type": "code",
   "execution_count": null,
   "id": "9f866bb7",
   "metadata": {},
   "outputs": [],
   "source": [
    "%run -i \"../../python_codes/create_resource_tree.py\""
   ]
  },
  {
   "cell_type": "markdown",
   "id": "989c13a0",
   "metadata": {},
   "source": [
    "# Mock-Device"
   ]
  },
  {
   "cell_type": "markdown",
   "id": "d80041bc",
   "metadata": {},
   "source": [
    "## Subscribe DataWareHouse to OM2M"
   ]
  },
  {
   "cell_type": "code",
   "execution_count": null,
   "id": "1109d453",
   "metadata": {},
   "outputs": [],
   "source": [
    "url = 'http://127.0.0.1:5089/~/in-cse/in-name/AE-TEST/Node-1/Data'\n",
    "headers = {\n",
    "      'X-M2M-Origin': 'admin:admin',\n",
    "      'Content-Type': 'application/json;ty=23'\n",
    "    } \n",
    "payload = {\n",
    "        \"m2m:sub\": {\n",
    "            \"rn\": \"Sub-DW\",\n",
    "            \"nct\": 2,\n",
    "            \"nu\": \"http://localhost:5091/\"\n",
    "        }\n",
    "    }\n",
    "\n",
    "response = requests.request(\"POST\", url, headers=headers, json=payload)\n",
    "response.text"
   ]
  },
  {
   "cell_type": "code",
   "execution_count": null,
   "id": "16056a25",
   "metadata": {},
   "outputs": [],
   "source": [
    "def post_random_data():\n",
    "    \n",
    "    _data_cin = [int(time.time()), random.randint(0, 1)]\n",
    "    \n",
    "    for count in range(no_of_params-2):\n",
    "        _data_cin.append(random.randint(1, 400))\n",
    "    \n",
    "    url = 'http://127.0.0.1:5089/~/in-cse/in-name/AE-TEST/Node-1/Data'\n",
    "    headers = {\n",
    "      'X-M2M-Origin': 'admin:admin',\n",
    "      'Content-Type': 'application/json;ty=4'\n",
    "    } \n",
    "    payload = {\n",
    "        \"m2m:cin\": {\n",
    "            \"con\": \"{}\".format(_data_cin),\n",
    "            \"lbl\": [\"Node-1\"],\n",
    "            \"cnf\": \"text\"\n",
    "        }\n",
    "    }\n",
    "\n",
    "    response = requests.request(\"POST\", url, headers=headers, json=payload)\n",
    "    print(response.text)\n",
    "    return response.status_code\n"
   ]
  },
  {
   "cell_type": "code",
   "execution_count": null,
   "id": "778f3f8d",
   "metadata": {},
   "outputs": [],
   "source": [
    "def run():\n",
    "    publish_count = 0\n",
    "    while True:\n",
    "        status_code = post_random_data()\n",
    "        if status_code == 201:\n",
    "            publish_count += 1\n",
    "            print(\"Data publishing at \" + str(data_frequency) + \"-second frequency\")\n",
    "            print(\"Publish Successful\")\n",
    "            print(\"Number of data point published = \" + str(publish_count))\n",
    "        else:\n",
    "            print(\"Unable to publish data, process failed with a status code: \" + str(status_code))\n",
    "        time.sleep(data_frequency)\n",
    "        clear_output(wait=True)"
   ]
  },
  {
   "cell_type": "code",
   "execution_count": null,
   "id": "64446144",
   "metadata": {},
   "outputs": [],
   "source": [
    "run()"
   ]
  },
  {
   "cell_type": "code",
   "execution_count": null,
   "id": "10f92e77",
   "metadata": {},
   "outputs": [],
   "source": []
  },
  {
   "cell_type": "code",
   "execution_count": null,
   "id": "01e956ed",
   "metadata": {},
   "outputs": [],
   "source": []
  }
 ],
 "metadata": {
  "kernelspec": {
   "display_name": "Python 3 (ipykernel)",
   "language": "python",
   "name": "python3"
  },
  "language_info": {
   "codemirror_mode": {
    "name": "ipython",
    "version": 3
   },
   "file_extension": ".py",
   "mimetype": "text/x-python",
   "name": "python",
   "nbconvert_exporter": "python",
   "pygments_lexer": "ipython3",
   "version": "3.10.6"
  }
 },
 "nbformat": 4,
 "nbformat_minor": 5
}
