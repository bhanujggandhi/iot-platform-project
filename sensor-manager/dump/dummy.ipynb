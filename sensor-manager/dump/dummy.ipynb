{
 "cells": [
  {
   "cell_type": "code",
   "execution_count": 1,
   "metadata": {},
   "outputs": [],
   "source": [
    "from Messenger import Produce, Consume\n",
    "import json\n",
    "produce = Produce()\n",
    "consume = Consume(\"topic_analytics\")"
   ]
  },
  {
   "cell_type": "code",
   "execution_count": 11,
   "metadata": {},
   "outputs": [
    {
     "name": "stdout",
     "output_type": "stream",
     "text": [
      "['[1681053903, 1, 177]', '[1681053920, 0, 64]', '[1681053936, 0, 284]', '[1681053952, 1, 318]', '[1681053976, 0, 215]', '[1681053992, 0, 161]', '[1681054008, 0, 20]', '[1681054024, 0, 55]', '[1681054048, 1, 150]', '[1681054064, 0, 133]', '[1681054080, 1, 141]', '[1681054097, 1, 131]', '[1681054113, 0, 13]', '[1681054129, 0, 251]', '[1681054145, 1, 247]', '[1681054169, 0, 207]', '[1681054185, 1, 328]', '[1681054201, 0, 284]', '[1681054217, 1, 138]', '[1681054241, 1, 376]', '[1681054258, 1, 202]', '[1681054274, 1, 399]']\n"
     ]
    }
   ],
   "source": [
    "\n",
    "sensor_id = \"27785ce4-f175-4f48-8e46-db42f4671f4e\"\n",
    "fetchType = \"TimeSeries\"\n",
    "duration = 5\n",
    "startTime = 1681053903\n",
    "endTime = 1681054274\n",
    "\n",
    "request = {\n",
    "    \"sensorid\" : sensor_id,\n",
    "    \"fetchType\" : fetchType,\n",
    "    \"startTime\" : startTime,\n",
    "    \"endTime\" : endTime,\n",
    "    \"src\" : \"topic_analytics\"\n",
    "}\n",
    "\n",
    "TOPIC = \"topic_sensor_manager\"\n",
    "\n",
    "\n",
    "key = \"\"\n",
    "produce.push(TOPIC, key, json.dumps(request))\n",
    "\n",
    "resp = consume.pull()\n",
    "if resp[\"status\"] == False:\n",
    "    print(resp[\"value\"])\n",
    "else:\n",
    "    response = resp[\"value\"]\n",
    "    response = json.loads(response)\n",
    "\n",
    "    print(response[\"data\"])"
   ]
  },
  {
   "cell_type": "code",
   "execution_count": 10,
   "metadata": {},
   "outputs": [
    {
     "name": "stdout",
     "output_type": "stream",
     "text": [
      "[1681344396, 1, 152]\n"
     ]
    }
   ],
   "source": [
    "\n",
    "sensor_id = \"27785ce4-f175-4f48-8e46-db42f4671f4e\"\n",
    "fetchType = \"Instant\"\n",
    "duration = 5\n",
    "startTime = 1681053903\n",
    "endTime = 1681054274\n",
    "\n",
    "request = {\n",
    "    \"sensorid\" : sensor_id,\n",
    "    \"fetchType\" : fetchType,\n",
    "    \"src\" : \"topic_analytics\"\n",
    "}\n",
    "\n",
    "TOPIC = \"topic_sensor_manager\"\n",
    "\n",
    "\n",
    "key = \"\"\n",
    "produce.push(TOPIC, key, json.dumps(request))\n",
    "\n",
    "resp = consume.pull()\n",
    "if resp[\"status\"] == False:\n",
    "    print(resp[\"value\"])\n",
    "else:\n",
    "    response = resp[\"value\"]\n",
    "    response = json.loads(response)\n",
    "\n",
    "    print(response[\"data\"])"
   ]
  },
  {
   "cell_type": "code",
   "execution_count": 12,
   "metadata": {},
   "outputs": [
    {
     "name": "stdout",
     "output_type": "stream",
     "text": [
      "['[1681344396, 1, 152]', '[1681344396, 1, 152]', '[1681344396, 1, 152]', '[1681344396, 1, 152]', '[1681344396, 1, 152]']\n"
     ]
    }
   ],
   "source": [
    "\n",
    "sensor_id = \"27785ce4-f175-4f48-8e46-db42f4671f4e\"\n",
    "fetchType = \"RealTime\"\n",
    "duration = 5\n",
    "startTime = 1681053903\n",
    "endTime = 1681054274\n",
    "\n",
    "request = {\n",
    "    \"sensorid\" : sensor_id,\n",
    "    \"fetchType\" : fetchType,\n",
    "    \"duration\" : duration,\n",
    "    \"src\" : \"topic_analytics\"\n",
    "}\n",
    "\n",
    "TOPIC = \"topic_sensor_manager\"\n",
    "\n",
    "\n",
    "key = \"\"\n",
    "produce.push(TOPIC, key, json.dumps(request))\n",
    "\n",
    "resp = consume.pull()\n",
    "if resp[\"status\"] == False:\n",
    "    print(resp[\"value\"])\n",
    "else:\n",
    "    response = resp[\"value\"]\n",
    "    response = json.loads(response)\n",
    "\n",
    "    print(response[\"data\"])"
   ]
  }
 ],
 "metadata": {
  "kernelspec": {
   "display_name": "Python 3",
   "language": "python",
   "name": "python3"
  },
  "language_info": {
   "codemirror_mode": {
    "name": "ipython",
    "version": 3
   },
   "file_extension": ".py",
   "mimetype": "text/x-python",
   "name": "python",
   "nbconvert_exporter": "python",
   "pygments_lexer": "ipython3",
   "version": "3.10.6"
  },
  "orig_nbformat": 4
 },
 "nbformat": 4,
 "nbformat_minor": 2
}
